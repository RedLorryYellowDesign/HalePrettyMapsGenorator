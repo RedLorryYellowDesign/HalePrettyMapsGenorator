{
 "cells": [
  {
   "cell_type": "code",
   "execution_count": 2,
   "metadata": {},
   "outputs": [
    {
     "ename": "ModuleNotFoundError",
     "evalue": "No module named 'prettymaps'",
     "output_type": "error",
     "traceback": [
      "\u001b[1;31m---------------------------------------------------------------------------\u001b[0m",
      "\u001b[1;31mModuleNotFoundError\u001b[0m                       Traceback (most recent call last)",
      "\u001b[1;32mc:\\Users\\jharris\\code\\RedLorryYellowDesign\\HalePrettyMapsGenorator\\Test.ipynb Cell 1\u001b[0m in \u001b[0;36m<cell line: 7>\u001b[1;34m()\u001b[0m\n\u001b[0;32m      <a href='vscode-notebook-cell:/c%3A/Users/jharris/code/RedLorryYellowDesign/HalePrettyMapsGenorator/Test.ipynb#W1sZmlsZQ%3D%3D?line=3'>4</a>\u001b[0m \u001b[39mimport\u001b[39;00m \u001b[39msys\u001b[39;00m; sys\u001b[39m.\u001b[39mpath\u001b[39m.\u001b[39mappend(\u001b[39m'\u001b[39m\u001b[39m../\u001b[39m\u001b[39m'\u001b[39m)\n\u001b[0;32m      <a href='vscode-notebook-cell:/c%3A/Users/jharris/code/RedLorryYellowDesign/HalePrettyMapsGenorator/Test.ipynb#W1sZmlsZQ%3D%3D?line=5'>6</a>\u001b[0m \u001b[39m# Prettymaps\u001b[39;00m\n\u001b[1;32m----> <a href='vscode-notebook-cell:/c%3A/Users/jharris/code/RedLorryYellowDesign/HalePrettyMapsGenorator/Test.ipynb#W1sZmlsZQ%3D%3D?line=6'>7</a>\u001b[0m \u001b[39mfrom\u001b[39;00m \u001b[39mprettymaps\u001b[39;00m \u001b[39mimport\u001b[39;00m \u001b[39m*\u001b[39m\n\u001b[0;32m      <a href='vscode-notebook-cell:/c%3A/Users/jharris/code/RedLorryYellowDesign/HalePrettyMapsGenorator/Test.ipynb#W1sZmlsZQ%3D%3D?line=7'>8</a>\u001b[0m \u001b[39m# Vsketch\u001b[39;00m\n\u001b[0;32m      <a href='vscode-notebook-cell:/c%3A/Users/jharris/code/RedLorryYellowDesign/HalePrettyMapsGenorator/Test.ipynb#W1sZmlsZQ%3D%3D?line=8'>9</a>\u001b[0m \u001b[39mimport\u001b[39;00m \u001b[39mvsketch\u001b[39;00m\n",
      "\u001b[1;31mModuleNotFoundError\u001b[0m: No module named 'prettymaps'"
     ]
    }
   ],
   "source": [
    "# For local execution (does not require installing the library):\n",
    "%load_ext autoreload\n",
    "%autoreload 2\n",
    "import sys; sys.path.append('../')\n",
    "\n",
    "# Prettymaps\n",
    "from prettymaps import *\n",
    "# Vsketch\n",
    "import vsketch\n",
    "# OSMNX\n",
    "import osmnx as ox\n",
    "# Matplotlib-related\n",
    "import matplotlib.font_manager as fm\n",
    "from matplotlib import pyplot as plt\n",
    "from descartes import PolygonPatch\n",
    "# Shapely\n",
    "from shapely.geometry import *\n",
    "from shapely.affinity import *\n",
    "from shapely.ops import unary_union"
   ]
  },
  {
   "cell_type": "code",
   "execution_count": 1,
   "metadata": {},
   "outputs": [
    {
     "ename": "NameError",
     "evalue": "name 'plt' is not defined",
     "output_type": "error",
     "traceback": [
      "\u001b[1;31m---------------------------------------------------------------------------\u001b[0m",
      "\u001b[1;31mNameError\u001b[0m                                 Traceback (most recent call last)",
      "\u001b[1;32mc:\\Users\\jharris\\code\\RedLorryYellowDesign\\HalePrettyMapsGenorator\\Test.ipynb Cell 2\u001b[0m in \u001b[0;36m<cell line: 2>\u001b[1;34m()\u001b[0m\n\u001b[0;32m      <a href='vscode-notebook-cell:/c%3A/Users/jharris/code/RedLorryYellowDesign/HalePrettyMapsGenorator/Test.ipynb#W0sZmlsZQ%3D%3D?line=0'>1</a>\u001b[0m \u001b[39m# Init matplotlib figure\u001b[39;00m\n\u001b[1;32m----> <a href='vscode-notebook-cell:/c%3A/Users/jharris/code/RedLorryYellowDesign/HalePrettyMapsGenorator/Test.ipynb#W0sZmlsZQ%3D%3D?line=1'>2</a>\u001b[0m fig, ax \u001b[39m=\u001b[39m plt\u001b[39m.\u001b[39msubplots(figsize \u001b[39m=\u001b[39m (\u001b[39m12\u001b[39m, \u001b[39m12\u001b[39m), constrained_layout \u001b[39m=\u001b[39m \u001b[39mTrue\u001b[39;00m)\n\u001b[0;32m      <a href='vscode-notebook-cell:/c%3A/Users/jharris/code/RedLorryYellowDesign/HalePrettyMapsGenorator/Test.ipynb#W0sZmlsZQ%3D%3D?line=3'>4</a>\u001b[0m backup \u001b[39m=\u001b[39m plot(\n\u001b[0;32m      <a href='vscode-notebook-cell:/c%3A/Users/jharris/code/RedLorryYellowDesign/HalePrettyMapsGenorator/Test.ipynb#W0sZmlsZQ%3D%3D?line=4'>5</a>\u001b[0m     \u001b[39m# Address:\u001b[39;00m\n\u001b[0;32m      <a href='vscode-notebook-cell:/c%3A/Users/jharris/code/RedLorryYellowDesign/HalePrettyMapsGenorator/Test.ipynb#W0sZmlsZQ%3D%3D?line=5'>6</a>\u001b[0m     \u001b[39m'\u001b[39m\u001b[39mPraça Ferreira do Amaral, Macau\u001b[39m\u001b[39m'\u001b[39m,\n\u001b[1;32m   (...)\u001b[0m\n\u001b[0;32m     <a href='vscode-notebook-cell:/c%3A/Users/jharris/code/RedLorryYellowDesign/HalePrettyMapsGenorator/Test.ipynb#W0sZmlsZQ%3D%3D?line=48'>49</a>\u001b[0m         }\n\u001b[0;32m     <a href='vscode-notebook-cell:/c%3A/Users/jharris/code/RedLorryYellowDesign/HalePrettyMapsGenorator/Test.ipynb#W0sZmlsZQ%3D%3D?line=49'>50</a>\u001b[0m )\n",
      "\u001b[1;31mNameError\u001b[0m: name 'plt' is not defined"
     ]
    }
   ],
   "source": [
    "# Init matplotlib figure\n",
    "fig, ax = plt.subplots(figsize = (12, 12), constrained_layout = True)\n",
    "\n",
    "backup = plot(\n",
    "    # Address:\n",
    "    'Praça Ferreira do Amaral, Macau',\n",
    "    # Plot geometries in a circle of radius:\n",
    "    radius = 1100,\n",
    "    # Matplotlib axis\n",
    "    ax = ax,\n",
    "    # Which OpenStreetMap layers to plot and their parameters:\n",
    "    layers = {\n",
    "            # Perimeter (in this case, a circle)\n",
    "            'perimeter': {},\n",
    "            # Streets and their widths\n",
    "            'streets': {\n",
    "                'width': {\n",
    "                    'motorway': 5,\n",
    "                    'trunk': 5,\n",
    "                    'primary': 4.5,\n",
    "                    'secondary': 4,\n",
    "                    'tertiary': 3.5,\n",
    "                    'residential': 3,\n",
    "                    'service': 2,\n",
    "                    'unclassified': 2,\n",
    "                    'pedestrian': 2,\n",
    "                    'footway': 1,\n",
    "                }\n",
    "            },\n",
    "            # Other layers:\n",
    "            #   Specify a name (for example, 'building') and which OpenStreetMap tags to fetch\n",
    "            'building': {'tags': {'building': True, 'landuse': 'construction'}, 'union': False},\n",
    "            'water': {'tags': {'natural': ['water', 'bay']}},\n",
    "            'green': {'tags': {'landuse': 'grass', 'natural': ['island', 'wood'], 'leisure': 'park'}},\n",
    "            'forest': {'tags': {'landuse': 'forest'}},\n",
    "            'parking': {'tags': {'amenity': 'parking', 'highway': 'pedestrian', 'man_made': 'pier'}}\n",
    "        },\n",
    "        # drawing_kwargs:\n",
    "        #   Reference a name previously defined in the 'layers' argument and specify matplotlib parameters to draw it\n",
    "        drawing_kwargs = {\n",
    "            'background': {'fc': '#F2F4CB', 'ec': '#dadbc1', 'hatch': 'ooo...', 'zorder': -1},\n",
    "            'perimeter': {'fc': '#F2F4CB', 'ec': '#dadbc1', 'lw': 0, 'hatch': 'ooo...',  'zorder': 0},\n",
    "            'green': {'fc': '#D0F1BF', 'ec': '#2F3737', 'lw': 1, 'zorder': 1},\n",
    "            'forest': {'fc': '#64B96A', 'ec': '#2F3737', 'lw': 1, 'zorder': 1},\n",
    "            'water': {'fc': '#a1e3ff', 'ec': '#2F3737', 'hatch': 'ooo...', 'hatch_c': '#85c9e6', 'lw': 1, 'zorder': 2},\n",
    "            'parking': {'fc': '#F2F4CB', 'ec': '#2F3737', 'lw': 1, 'zorder': 3},\n",
    "            'streets': {'fc': '#2F3737', 'ec': '#475657', 'alpha': 1, 'lw': 0, 'zorder': 3},\n",
    "            'building': {'palette': ['#FFC857', '#E9724C', '#C5283D'], 'ec': '#2F3737', 'lw': .5, 'zorder': 4},\n",
    "        }\n",
    ")"
   ]
  }
 ],
 "metadata": {
  "kernelspec": {
   "display_name": "Python 3.9.13 64-bit (microsoft store)",
   "language": "python",
   "name": "python3"
  },
  "language_info": {
   "codemirror_mode": {
    "name": "ipython",
    "version": 3
   },
   "file_extension": ".py",
   "mimetype": "text/x-python",
   "name": "python",
   "nbconvert_exporter": "python",
   "pygments_lexer": "ipython3",
   "version": "3.9.13"
  },
  "orig_nbformat": 4,
  "vscode": {
   "interpreter": {
    "hash": "873d7f7ae33746e2509157eb76207e8b3d54b27baf95eae4bf0748fb9f91a45a"
   }
  }
 },
 "nbformat": 4,
 "nbformat_minor": 2
}
